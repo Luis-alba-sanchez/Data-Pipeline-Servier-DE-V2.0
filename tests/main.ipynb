{
 "cells": [
  {
   "cell_type": "markdown",
   "metadata": {},
   "source": [
    "# Imports\n"
   ]
  },
  {
   "cell_type": "code",
   "execution_count": null,
   "metadata": {},
   "outputs": [],
   "source": [
    "import pandas as pd"
   ]
  },
  {
   "cell_type": "code",
   "execution_count": null,
   "metadata": {},
   "outputs": [],
   "source": [
    "import json\n",
    "\n",
    "# Ouvrir le fichier JSON\n",
    "# remarque, dans jupyter, je dois mettre le ../ contrairement au fichier .py \n",
    "file_path = '../data/pubmed.json' \n",
    "with open(file_path, 'r') as f:\n",
    "    try:\n",
    "        data = json.load(f)\n",
    "        print(\"JSON chargé avec succès!\")\n",
    "        print(data)\n",
    "    except json.JSONDecodeError as e:\n",
    "        print(f\"Erreur lors du chargement du JSON: {e}\")\n",
    "    \n",
    "# print(data)"
   ]
  },
  {
   "cell_type": "code",
   "execution_count": null,
   "metadata": {},
   "outputs": [],
   "source": [
    "import json\n",
    "\n",
    "def load_data(loc_drugs='data/drugs.csv', \n",
    "              loc_clinicalTrials='data/clinical_trials.csv', \n",
    "              loc_pubmedCSV='data/pubmed.csv',\n",
    "              loc_pubmedJSON='data/pubmed.json'):\n",
    "\n",
    "    df_drugs = pd.read_csv(loc_drugs)\n",
    "    df_clinical_trials = pd.read_csv(loc_clinicalTrials)\n",
    "    df_pubmed_csv = pd.read_csv(loc_pubmedCSV)\n",
    "\n",
    "    with open(loc_pubmedJSON, 'r') as f:\n",
    "        df_json_pubmed = pd.DataFrame(json.load(f))\n",
    "\n",
    "    df_pumeds = pd.concat([df_pubmed_csv, df_json_pubmed], ignore_index=True)\n",
    "\n",
    "    return df_drugs, df_clinical_trials, df_pumeds\n",
    "\n",
    "df_drugs, df_clinical_trials, df_pubmeds = load_data(loc_drugs='../data/drugs.csv', \n",
    "              loc_clinicalTrials='../data/clinical_trials.csv', \n",
    "              loc_pubmedCSV='../data/pubmed.csv',\n",
    "              loc_pubmedJSON='../data/pubmed.json')"
   ]
  },
  {
   "cell_type": "code",
   "execution_count": null,
   "metadata": {},
   "outputs": [],
   "source": [
    "df_drugs"
   ]
  },
  {
   "cell_type": "code",
   "execution_count": null,
   "metadata": {},
   "outputs": [],
   "source": [
    "df_clinical_trials"
   ]
  },
  {
   "cell_type": "code",
   "execution_count": null,
   "metadata": {},
   "outputs": [],
   "source": [
    "df_pubmeds"
   ]
  },
  {
   "cell_type": "code",
   "execution_count": null,
   "metadata": {},
   "outputs": [],
   "source": [
    "def clean_data(df_drugs, df_clinical_trials, df_pubmed):\n",
    "    # Nettoyage des données des essais cliniques\n",
    "    df_clinical_trials.dropna(subset=['scientific_title', 'journal', 'date'], inplace=True)\n",
    "    try:\n",
    "        df_clinical_trials = df_clinical_trials[df_clinical_trials[\"scientific_title\"].astype(str).str.contains(r'[a-zA-Z]')]\n",
    "    except Exception as e:\n",
    "        print(f\"Erreur lors du filtrage des scientific_title: {e}\")\n",
    "    df_clinical_trials['date'] = pd.to_datetime(df_clinical_trials['date'], errors='coerce')\n",
    "    \n",
    "    # Nettoyage des données PubMed\n",
    "    df_pubmed.dropna(subset=['title', 'journal', 'date'], inplace=True)\n",
    "    df_pubmed['date'] = pd.to_datetime(df_pubmed['date'], errors='coerce')\n",
    "\n",
    "    # Nettoyage des données des médicaments\n",
    "    df_drugs.dropna(inplace=True)\n",
    "    \n",
    "    return df_drugs, df_clinical_trials, df_pubmed"
   ]
  },
  {
   "cell_type": "code",
   "execution_count": null,
   "metadata": {},
   "outputs": [],
   "source": [
    "df_drugs, df_clinical_trials, df_pubmeds = clean_data(df_drugs, df_clinical_trials, df_pubmeds)\n",
    "if not df_drugs.isnull().values.any():\n",
    "    print('df_drugs ne contient pas de valuers nulles')\n",
    "else:\n",
    "    print('df_drugs contient des valuers nulles')\n",
    "\n",
    "if not df_clinical_trials.isnull().values.any():\n",
    "    print('df_clinical_trials ne contient pas de valuers nulles')\n",
    "else:\n",
    "    print('df_clinical_trials contient des valuers nulles')\n",
    "\n",
    "if not df_pubmeds.isnull().values.any():\n",
    "    print('df_pubmeds ne contient pas de valuers nulles')\n",
    "else:\n",
    "    print('df_pubmeds contient des valuers nulles')"
   ]
  },
  {
   "cell_type": "code",
   "execution_count": null,
   "metadata": {},
   "outputs": [],
   "source": [
    "df_drugs"
   ]
  },
  {
   "cell_type": "code",
   "execution_count": null,
   "metadata": {},
   "outputs": [],
   "source": [
    "df_clinical_trials"
   ]
  },
  {
   "cell_type": "code",
   "execution_count": null,
   "metadata": {},
   "outputs": [],
   "source": [
    "filtered_df = df_clinical_trials[df_clinical_trials[\"scientific_title\"].astype(str).str.contains(r'[a-zA-Z]')]\n",
    "filtered_df"
   ]
  },
  {
   "cell_type": "code",
   "execution_count": null,
   "metadata": {},
   "outputs": [],
   "source": [
    "df_pubmeds"
   ]
  },
  {
   "cell_type": "code",
   "execution_count": null,
   "metadata": {},
   "outputs": [],
   "source": [
    "import pandas as pd\n",
    "df_d = pd.DataFrame({\n",
    "            'atccode': ['A04AD', 'S03AA'],\n",
    "            'drug': ['DIPHENHYDRAMINE', 'TETRACYCLINE']\n",
    "        })\n",
    "df_ct = pd.DataFrame({\n",
    "            'id': ['NCT01967433', 'NCT04189588'],\n",
    "            'scientific_title': ['utilisation de Diphenhydramine', 'Hydrochloride  vs Diphenhydramine'],\n",
    "            'date': ['2020-01-01', '2020-01-01'],\n",
    "            'journal': ['Journal 1', 'Journal 2']\n",
    "        })\n",
    "df_p = pd.DataFrame({\n",
    "            'id': [1, 2],\n",
    "            'title': ['qu est ce-que la diphenhydramine', 'l evaluation de la diphenhydramine'],\n",
    "            'date': ['01/01/2019', '01/01/2019'],\n",
    "            'journal': ['Journal 3', 'Journal 4']\n",
    "        })"
   ]
  },
  {
   "cell_type": "code",
   "execution_count": null,
   "metadata": {},
   "outputs": [],
   "source": [
    "import re\n",
    "\n",
    "def find_mentions(title, drugs_df):\n",
    "    mentions = []\n",
    "    for _, row in drugs_df.iterrows():\n",
    "        if re.search(r'\\b' + re.escape(row['drug']) + r'\\b', title, re.IGNORECASE):\n",
    "            mentions.append(row['drug'])\n",
    "    return mentions\n",
    "\n",
    "def transform_data(drugs_df, clinical_trials_df, pubmed_df):\n",
    "    mentions = []\n",
    "\n",
    "    for _, row in clinical_trials_df.iterrows():\n",
    "        drugs = find_mentions(row['scientific_title'], drugs_df)\n",
    "        for drug in drugs:\n",
    "            mentions.append({\n",
    "                'drug': drug,\n",
    "                'source': 'clinical_trials',\n",
    "                'title': row['scientific_title'],\n",
    "                'date': row['date'],\n",
    "                'journal': row['journal']\n",
    "            })\n",
    "\n",
    "    for _, row in pubmed_df.iterrows():\n",
    "        drugs = find_mentions(row['title'], drugs_df)\n",
    "        for drug in drugs:\n",
    "            mentions.append({\n",
    "                'drug': drug,\n",
    "                'source': 'pubmed',\n",
    "                'title': row['title'],\n",
    "                'date': row['date'],\n",
    "                'journal': row['journal']\n",
    "            })\n",
    "    \n",
    "    return mentions\n"
   ]
  },
  {
   "cell_type": "code",
   "execution_count": null,
   "metadata": {},
   "outputs": [],
   "source": [
    "title = \"A 44-year-old man with erythema of the face diphenhydramine\"\n",
    "mentions = find_mentions(title, df_d)\n",
    "print('DIPHENHYDRAMINE', mentions, \"DIPHENHYDRAMINE should be found in the title\")\n"
   ]
  },
  {
   "cell_type": "code",
   "execution_count": null,
   "metadata": {},
   "outputs": [],
   "source": [
    "print(transform_data(df_d, df_ct, df_p))"
   ]
  },
  {
   "cell_type": "code",
   "execution_count": null,
   "metadata": {},
   "outputs": [],
   "source": [
    "from collections import Counter\n",
    "\n",
    "def journal_with_most_mentions(data):\n",
    "    journal_mentions = Counter(mention['journal'] for mention in data)\n",
    "    # print(journal_mentions)\n",
    "    return journal_mentions.most_common(1)[0][0]"
   ]
  },
  {
   "cell_type": "code",
   "execution_count": null,
   "metadata": {},
   "outputs": [],
   "source": [
    "with open('../output/result.json', 'r') as f:\n",
    "        data = json.load(f)\n",
    "    \n",
    "# Extraire le nom du journal qui mentionne le plus de médicaments différents\n",
    "most_mentioned_journal = journal_with_most_mentions(data)\n",
    "print(\"Journal with most mentions:\", most_mentioned_journal)"
   ]
  },
  {
   "cell_type": "code",
   "execution_count": null,
   "metadata": {},
   "outputs": [],
   "source": [
    "def find_related_drugs(medication, data):\n",
    "    related_drugs = set()\n",
    "    for mention in data:\n",
    "        if mention['source'] == 'pubmed' and mention['drug'] == medication:\n",
    "            related_drugs.update(related_mention['drug'] for related_mention in data if related_mention['journal'] == mention['journal'] and related_mention['source'] == 'pubmed' and related_mention['drug'] != medication)\n",
    "    return related_drugs"
   ]
  },
  {
   "cell_type": "code",
   "execution_count": null,
   "metadata": {},
   "outputs": [],
   "source": [
    "with open('../output/result.json', 'r') as f:\n",
    "        data = json.load(f)\n",
    "related_drugs = find_related_drugs('ATROPINE', data)\n",
    "print(\"Related drugs for ATROPINE:\", related_drugs)"
   ]
  },
  {
   "cell_type": "code",
   "execution_count": null,
   "metadata": {},
   "outputs": [],
   "source": [
    "import pandas as pd\n",
    "\n",
    "# Exemple de DataFrame\n",
    "df = pd.DataFrame({\n",
    "    'id': [1, 1, 2, None],\n",
    "    'val1': [10, None, 20, None],\n",
    "    'val2': [None, 30, None, 40],\n",
    "    'val3': ['oui', None, 'non', 'non']\n",
    "})\n",
    "print(df)\n",
    "# Remplir les NaN avec les valeurs non-NaN des lignes du même groupe\n",
    "df_filled = df.groupby('id', dropna=False).transform(lambda x: x.ffill().bfill())\n",
    "\n",
    "# Garder une seule ligne par groupe avec id non-NaN\n",
    "result = df.drop_duplicates('id').dropna(subset=['id']).assign(\n",
    "    val1=df_filled['val1'], \n",
    "    val2=df_filled['val2'], \n",
    "    val3=df_filled['val3']\n",
    ")\n",
    "\n",
    "print(result)\n"
   ]
  },
  {
   "cell_type": "code",
   "execution_count": null,
   "metadata": {},
   "outputs": [],
   "source": [
    "import pandas as pd\n",
    "\n",
    "# Exemple de DataFrame\n",
    "df = pd.DataFrame({\n",
    "    'id': [1, 1, 2, None],\n",
    "    'val1': [10, None, 20, None],\n",
    "    'val2': [None, 30, None, 40],\n",
    "    'val3': ['oui', None, 'non', 'non']\n",
    "})\n",
    "print(df)\n",
    "\n",
    "print(df.groupby(['id','val1'], as_index=False).agg({'val2':'first', 'val3':'first'}))\n",
    "print(df.groupby(['id','val1'], as_index=False).agg({'val2':'last', 'val3':'last'}))\n",
    "print(df.groupby(['id','val1'], as_index=False).agg({'val2':'sum', 'val3':'sum'}))"
   ]
  },
  {
   "cell_type": "code",
   "execution_count": null,
   "metadata": {},
   "outputs": [],
   "source": [
    "print(df.groupby(['id','val1'], as_index=False))"
   ]
  },
  {
   "cell_type": "code",
   "execution_count": null,
   "metadata": {},
   "outputs": [],
   "source": [
    "import pandas as pd\n",
    "\n",
    "# Exemple de DataFrame\n",
    "df = pd.DataFrame({\n",
    "    'id': [1, 1, 2, None],\n",
    "    'val1': [10, None, 20, None],\n",
    "    'val2': [None, 30, None, 40],\n",
    "    'val3': ['oui', None, 'non', 'non']\n",
    "})\n"
   ]
  },
  {
   "cell_type": "code",
   "execution_count": null,
   "metadata": {},
   "outputs": [],
   "source": [
    "df = df.groupby('id').agg({'val3': ''.join}).reset_index()"
   ]
  },
  {
   "cell_type": "code",
   "execution_count": 1,
   "metadata": {},
   "outputs": [
    {
     "data": {
      "text/html": [
       "<div>\n",
       "<style scoped>\n",
       "    .dataframe tbody tr th:only-of-type {\n",
       "        vertical-align: middle;\n",
       "    }\n",
       "\n",
       "    .dataframe tbody tr th {\n",
       "        vertical-align: top;\n",
       "    }\n",
       "\n",
       "    .dataframe thead th {\n",
       "        text-align: right;\n",
       "    }\n",
       "</style>\n",
       "<table border=\"1\" class=\"dataframe\">\n",
       "  <thead>\n",
       "    <tr style=\"text-align: right;\">\n",
       "      <th></th>\n",
       "      <th>id</th>\n",
       "      <th>scientific_title</th>\n",
       "      <th>date</th>\n",
       "      <th>journal</th>\n",
       "    </tr>\n",
       "  </thead>\n",
       "  <tbody>\n",
       "    <tr>\n",
       "      <th>0</th>\n",
       "      <td>NCT01967433</td>\n",
       "      <td>Use of Diphenhydramine as an Adjunctive Sedati...</td>\n",
       "      <td>1 January 2020</td>\n",
       "      <td>Journal of emergency nursing</td>\n",
       "    </tr>\n",
       "    <tr>\n",
       "      <th>1</th>\n",
       "      <td>NCT04189588</td>\n",
       "      <td>Phase 2 Study IV QUZYTTIR™ (Cetirizine Hydroch...</td>\n",
       "      <td>1 January 2020</td>\n",
       "      <td>Journal of emergency nursing</td>\n",
       "    </tr>\n",
       "    <tr>\n",
       "      <th>2</th>\n",
       "      <td>NCT04237090</td>\n",
       "      <td></td>\n",
       "      <td>1 January 2020</td>\n",
       "      <td>Journal of emergency nursing</td>\n",
       "    </tr>\n",
       "    <tr>\n",
       "      <th>3</th>\n",
       "      <td>NCT04237091</td>\n",
       "      <td>Feasibility of a Randomized Controlled Clinica...</td>\n",
       "      <td>1 January 2020</td>\n",
       "      <td>Journal of emergency nursing</td>\n",
       "    </tr>\n",
       "    <tr>\n",
       "      <th>4</th>\n",
       "      <td>NCT04153396</td>\n",
       "      <td>Preemptive Infiltration With Betamethasone and...</td>\n",
       "      <td>1 January 2020</td>\n",
       "      <td>Hôpitaux Universitaires de Genève</td>\n",
       "    </tr>\n",
       "    <tr>\n",
       "      <th>5</th>\n",
       "      <td>NCT03490942</td>\n",
       "      <td>Glucagon Infusion in T1D Patients With Recurre...</td>\n",
       "      <td>25/05/2020</td>\n",
       "      <td>NaN</td>\n",
       "    </tr>\n",
       "    <tr>\n",
       "      <th>6</th>\n",
       "      <td>NaN</td>\n",
       "      <td>Glucagon Infusion in T1D Patients With Recurre...</td>\n",
       "      <td>25/05/2020</td>\n",
       "      <td>Journal of emergency nursing</td>\n",
       "    </tr>\n",
       "    <tr>\n",
       "      <th>7</th>\n",
       "      <td>NCT04188184</td>\n",
       "      <td>Tranexamic Acid Versus Epinephrine During Expl...</td>\n",
       "      <td>27 April 2020</td>\n",
       "      <td>Journal of emergency nursing\\xc3\\x28</td>\n",
       "    </tr>\n",
       "  </tbody>\n",
       "</table>\n",
       "</div>"
      ],
      "text/plain": [
       "            id                                   scientific_title  \\\n",
       "0  NCT01967433  Use of Diphenhydramine as an Adjunctive Sedati...   \n",
       "1  NCT04189588  Phase 2 Study IV QUZYTTIR™ (Cetirizine Hydroch...   \n",
       "2  NCT04237090                                                      \n",
       "3  NCT04237091  Feasibility of a Randomized Controlled Clinica...   \n",
       "4  NCT04153396  Preemptive Infiltration With Betamethasone and...   \n",
       "5  NCT03490942  Glucagon Infusion in T1D Patients With Recurre...   \n",
       "6          NaN  Glucagon Infusion in T1D Patients With Recurre...   \n",
       "7  NCT04188184  Tranexamic Acid Versus Epinephrine During Expl...   \n",
       "\n",
       "             date                               journal  \n",
       "0  1 January 2020          Journal of emergency nursing  \n",
       "1  1 January 2020          Journal of emergency nursing  \n",
       "2  1 January 2020          Journal of emergency nursing  \n",
       "3  1 January 2020          Journal of emergency nursing  \n",
       "4  1 January 2020     Hôpitaux Universitaires de Genève  \n",
       "5      25/05/2020                                   NaN  \n",
       "6      25/05/2020          Journal of emergency nursing  \n",
       "7   27 April 2020  Journal of emergency nursing\\xc3\\x28  "
      ]
     },
     "execution_count": 1,
     "metadata": {},
     "output_type": "execute_result"
    }
   ],
   "source": [
    "import pandas as pd\n",
    "df_clinical_trials = pd.read_csv('../data/clinical_trials.csv')\n",
    "df_clinical_trials\n"
   ]
  },
  {
   "cell_type": "code",
   "execution_count": 2,
   "metadata": {},
   "outputs": [
    {
     "name": "stdout",
     "output_type": "stream",
     "text": [
      "            id                                   scientific_title  \\\n",
      "0  NCT01967433  Use of Diphenhydramine as an Adjunctive Sedati...   \n",
      "1  NCT04189588  Phase 2 Study IV QUZYTTIR™ (Cetirizine Hydroch...   \n",
      "2  NCT04237090                                                      \n",
      "3  NCT04237091  Feasibility of a Randomized Controlled Clinica...   \n",
      "4  NCT04153396  Preemptive Infiltration With Betamethasone and...   \n",
      "5  NCT03490942  Glucagon Infusion in T1D Patients With Recurre...   \n",
      "6          NaN  Glucagon Infusion in T1D Patients With Recurre...   \n",
      "7  NCT04188184  Tranexamic Acid Versus Epinephrine During Expl...   \n",
      "8  NCT03490942  Glucagon Infusion in T1D Patients With Recurre...   \n",
      "\n",
      "             date                               journal  \n",
      "0  1 January 2020          Journal of emergency nursing  \n",
      "1  1 January 2020          Journal of emergency nursing  \n",
      "2  1 January 2020          Journal of emergency nursing  \n",
      "3  1 January 2020          Journal of emergency nursing  \n",
      "4  1 January 2020     Hôpitaux Universitaires de Genève  \n",
      "5      25/05/2020                                   NaN  \n",
      "6      25/05/2020          Journal of emergency nursing  \n",
      "7   27 April 2020  Journal of emergency nursing\\xc3\\x28  \n",
      "8      25/05/2020          Journal of emergency nursing  \n"
     ]
    }
   ],
   "source": [
    "import numpy as np\n",
    "import math\n",
    "\n",
    "all=[]\n",
    "l1=[]\n",
    "l2=[]\n",
    "for i in range(len(df_clinical_trials)):\n",
    "    if df_clinical_trials.loc[i].isnull().sum() != 0:\n",
    "        l1=df_clinical_trials.loc[i].to_list()\n",
    "        # print(\"l1 ===\", l1)\n",
    "        for j in range(i+1, len(df_clinical_trials)):\n",
    "            l2 = df_clinical_trials.loc[j].to_list()\n",
    "            # print(\"da ===\", list(set(l1).symmetric_difference(set(l2))))\n",
    "            diff = len(list(set(l1).symmetric_difference(set(l2))))\n",
    "            if diff < len(l2):\n",
    "                difference = list(set(l2) - set(l1))[::-1]\n",
    "                # print(difference)\n",
    "                # print(\"l2 ===\", l2)\n",
    "                # print(\"do ===\", list(set(l1).symmetric_difference(set(l2))))\n",
    "                cpt=0\n",
    "                for i in range(len(l1)):\n",
    "                    # print(l1[i], type(l1[i]))\n",
    "                    if pd.isna(l1[i]):\n",
    "                        l1[i]=difference[cpt]\n",
    "                        cpt=cpt+1\n",
    "            break\n",
    "        all.append(l1)\n",
    "        # print(all)\n",
    "\n",
    "cpt = 0\n",
    "for row in all:\n",
    "    df_clinical_trials.loc[len(df_clinical_trials)] = row\n",
    "\n",
    "df_clinical_trials=df_clinical_trials.drop_duplicates()\n",
    "\n",
    "print(df_clinical_trials)\n",
    "    "
   ]
  },
  {
   "cell_type": "code",
   "execution_count": 1,
   "metadata": {},
   "outputs": [
    {
     "data": {
      "text/plain": [
       "str"
      ]
     },
     "execution_count": 1,
     "metadata": {},
     "output_type": "execute_result"
    }
   ],
   "source": [
    "type('lquf')"
   ]
  },
  {
   "cell_type": "code",
   "execution_count": null,
   "metadata": {},
   "outputs": [],
   "source": []
  }
 ],
 "metadata": {
  "kernelspec": {
   "display_name": "venv311Servier_DE",
   "language": "python",
   "name": "python3"
  },
  "language_info": {
   "codemirror_mode": {
    "name": "ipython",
    "version": 3
   },
   "file_extension": ".py",
   "mimetype": "text/x-python",
   "name": "python",
   "nbconvert_exporter": "python",
   "pygments_lexer": "ipython3",
   "version": "3.11.9"
  }
 },
 "nbformat": 4,
 "nbformat_minor": 2
}
